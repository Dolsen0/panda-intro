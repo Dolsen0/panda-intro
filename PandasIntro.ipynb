{
  "nbformat": 4,
  "nbformat_minor": 0,
  "metadata": {
    "colab": {
      "provenance": [],
      "authorship_tag": "ABX9TyM5VwXGbbGCaTKSReVTHA7v",
      "include_colab_link": true
    },
    "kernelspec": {
      "name": "python3",
      "display_name": "Python 3"
    },
    "language_info": {
      "name": "python"
    }
  },
  "cells": [
    {
      "cell_type": "markdown",
      "metadata": {
        "id": "view-in-github",
        "colab_type": "text"
      },
      "source": [
        "<a href=\"https://colab.research.google.com/github/Dolsen0/panda-intro/blob/main/PandasIntro.ipynb\" target=\"_parent\"><img src=\"https://colab.research.google.com/assets/colab-badge.svg\" alt=\"Open In Colab\"/></a>"
      ]
    },
    {
      "cell_type": "code",
      "execution_count": null,
      "metadata": {
        "id": "wXXILqmPlO8T"
      },
      "outputs": [],
      "source": [
        "import numpy as np\n",
        "import pandas as pd\n",
        "import random"
      ]
    },
    {
      "cell_type": "code",
      "source": [
        "#4x2 array\n",
        "first_np_array = np.array([[2,5],[5,5],[3,7],[6,6]])\n",
        "\n",
        "#Names of two columns\n",
        "column_names = ['Home','Away']\n",
        "\n",
        "#dataframe based on scores and teams\n",
        "scores = pd.DataFrame(data=first_np_array, columns=column_names)\n",
        "\n",
        "print(scores)"
      ],
      "metadata": {
        "colab": {
          "base_uri": "https://localhost:8080/"
        },
        "id": "eGzVZDECleIJ",
        "outputId": "e2ad84b9-e530-4430-fd46-75e6fe230f09"
      },
      "execution_count": null,
      "outputs": [
        {
          "output_type": "stream",
          "name": "stdout",
          "text": [
            "   Home  Away\n",
            "0     2     5\n",
            "1     5     5\n",
            "2     3     7\n",
            "3     6     6\n"
          ]
        }
      ]
    },
    {
      "cell_type": "markdown",
      "source": [
        "Task 1: Create a DataFrame\n",
        "\n",
        "Do the following:\n",
        "\n",
        "\n",
        "*  Create an 3x4 (3 rows x 4 columns) pandas DataFrame in which the columns are named Eleanor, Chidi, Tahani, and Jason. Populate each of the 12 cells in the DataFrame with a random integer between 0 and 100, inclusive.\n",
        "\n",
        "\n",
        "\n",
        "\n",
        "Output the following:\n",
        "the entire DataFrame\n",
        "\n",
        "*   the entire DataFrame\n",
        "*  the value in the cell of row #1 of the Eleanor column\n",
        "\n",
        "\n"
      ],
      "metadata": {
        "id": "UHON-mr1qCWQ"
      }
    },
    {
      "cell_type": "code",
      "source": [
        "#column name\n",
        "column_name2 = [\"Eleanor\", \"Chidi\", \"Tahani\", \"Jason\"]\n",
        "\n",
        "#adding random integers 1-100 into a 3x4 grid. \n",
        "new_array = np.random.randint(low=0, high=101, size=(3,4))\n",
        "\n",
        "#combining data and column names into one variable\n",
        "data2 = pd.DataFrame(data=new_array, columns=column_name2)\n",
        "\n",
        "#add new column with random integers to existing array\n",
        "data2[\"Derek\"] = np.random.randint(low=0, high=101, size=3)\n",
        "\n",
        "\n",
        "print(data2)\n",
        "print(\"\\n row 1 of Eleanor: %d\\n\" %data2['Eleanor'][1])\n",
        "print(\"\\n Derek's column 0 info is: %d\\n\" %data2['Derek'][0])\n",
        "\n"
      ],
      "metadata": {
        "colab": {
          "base_uri": "https://localhost:8080/"
        },
        "id": "TomWpE0Fm828",
        "outputId": "8a720664-2112-445e-9a91-bf4f47a8727a"
      },
      "execution_count": null,
      "outputs": [
        {
          "output_type": "stream",
          "name": "stdout",
          "text": [
            "   Eleanor  Chidi  Tahani  Jason  Derek\n",
            "0       49     66      72     96     68\n",
            "1       11     31      85     60     32\n",
            "2       36     13      88     65     68\n",
            "\n",
            " row 1 of Eleanor: 11\n",
            "\n",
            "\n",
            " Derek's column 0 info is: 68\n",
            "\n"
          ]
        }
      ]
    }
  ]
}